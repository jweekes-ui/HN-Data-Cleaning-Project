{
 "cells": [
  {
   "cell_type": "markdown",
   "id": "d45c72fa",
   "metadata": {},
   "source": [
    "## Guided Project 2 - Exploring Hacker News Posts"
   ]
  },
  {
   "cell_type": "markdown",
   "id": "101439f0",
   "metadata": {},
   "source": [
    "### Brief Introduction:\n",
    "\n",
    "[Hacker News](https://news.ycombinator.com/) is a site started by the startup incubator [Y Combinator](https://www.ycombinator.com/) where user- submitted stories (known as \"posts\") receive votes and comments, similar to reddit.\n",
    "\n",
    "Hacker News is extremely popular in technology and startup circles and posts that make it to the top of the Hacker News listings can get hundreds of thousands of visitors as a result."
   ]
  },
  {
   "cell_type": "markdown",
   "id": "8dadbe1c",
   "metadata": {},
   "source": [
    "### Project Goal:\n",
    "\n",
    "In this dataset, we're specifically interested in posts with titles that begin with either \"Ask HN\" or  \"Show HN\". Users submit the `Ask HN` posts to ask the Hacker News community a specific question whilst they use the `Show HN` posts to show the Hacker News community a project, product or just something interesting.\n",
    "\n",
    "In this Analysis Project we want to compare these two types of posts to determine the following:\n",
    "\n",
    "**1)** Which between the `Ask HN` or `Show HN` posts receive more comments on average?\n",
    "\n",
    "\n",
    "**2)** Do posts created at a certain time receive more comments on average?"
   ]
  },
  {
   "cell_type": "markdown",
   "id": "2e41e82d",
   "metadata": {},
   "source": [
    "#### A Brief of our Data:\n",
    "Description of Columns in Dataset\n",
    "\n",
    "\n",
    "| Column name           | Description                                         |\n",
    "| --------------------- | -----------                                         |\n",
    "| \"id\"                  | The unique identfier from Hacker News for the post  |\n",
    "|  \"title\"              | The title of the post                               |\n",
    "|  \"url\"                | The URL that the posts links to, if the post has a url                           |\n",
    "|  \"num_points\"           | The number of points the post acquired, calculated as the total number of upvotes minus the total number of downvotes                             |\n",
    "|  \"num_comments\"              | The number of comments on the post                              |\n",
    "|  \"author\"   |  The username of the person who submitted the post     |\n",
    "|  \"created_at\"   | The date and time of the post's submission  |\n"
   ]
  },
  {
   "cell_type": "markdown",
   "id": "e5f14278",
   "metadata": {},
   "source": [
    "----"
   ]
  },
  {
   "cell_type": "markdown",
   "id": "6a483750",
   "metadata": {},
   "source": [
    "### Opening and Exploring our Dataset\n"
   ]
  },
  {
   "cell_type": "code",
   "execution_count": 19,
   "id": "368b281a",
   "metadata": {},
   "outputs": [],
   "source": [
    "# Importing the Data\n",
    "from csv import reader\n",
    "open_file = open(\"hacker_news.csv\", encoding = \"utf-8\" )\n",
    "read_file = reader(open_file)\n",
    "hn = list(read_file)\n"
   ]
  },
  {
   "cell_type": "code",
   "execution_count": 20,
   "id": "f0c219b9",
   "metadata": {},
   "outputs": [
    {
     "name": "stdout",
     "output_type": "stream",
     "text": [
      "\n",
      "\n",
      "['id', 'title', 'url', 'num_points', 'num_comments', 'author', 'created_at']\n",
      "\n",
      "\n",
      "['12224879', 'Interactive Dynamic Video', 'http://www.interactivedynamicvideo.com/', '386', '52', 'ne0phyte', '8/4/2016 11:52']\n",
      "\n",
      "\n",
      "['10975351', 'How to Use Open Source and Shut the Fuck Up at the Same Time', 'http://hueniverse.com/2016/01/26/how-to-use-open-source-and-shut-the-fuck-up-at-the-same-time/', '39', '10', 'josep2', '1/26/2016 19:30']\n",
      "\n",
      "\n",
      "['11964716', \"Florida DJs May Face Felony for April Fools' Water Joke\", 'http://www.thewire.com/entertainment/2013/04/florida-djs-april-fools-water-joke/63798/', '2', '1', 'vezycash', '6/23/2016 22:20']\n",
      "\n",
      "\n",
      "['11919867', 'Technology ventures: From Idea to Enterprise', 'https://www.amazon.com/Technology-Ventures-Enterprise-Thomas-Byers/dp/0073523429', '3', '1', 'hswarna', '6/17/2016 0:01']\n",
      "\n",
      "\n",
      "['10301696', 'Note by Note: The Making of Steinway L1037 (2007)', 'http://www.nytimes.com/2007/11/07/movies/07stein.html?_r=0', '8', '2', 'walterbell', '9/30/2015 4:12']\n",
      "\n",
      " 20101\n"
     ]
    }
   ],
   "source": [
    "# Briefly Displaying a sample of the data\n",
    "for x in range(6):\n",
    "    print('\\n')\n",
    "    print(hn[x])\n",
    "    \n",
    "print('\\n', len(hn))"
   ]
  },
  {
   "cell_type": "code",
   "execution_count": 21,
   "id": "294ec60f",
   "metadata": {},
   "outputs": [
    {
     "name": "stdout",
     "output_type": "stream",
     "text": [
      "['id', 'title', 'url', 'num_points', 'num_comments', 'author', 'created_at']\n"
     ]
    }
   ],
   "source": [
    "# Extracting and removing the header row from the dataset. ONLY RUN ONCE!\n",
    "headers = hn[0]\n",
    "print(headers)\n",
    "\n",
    "hn = hn[1:]"
   ]
  },
  {
   "cell_type": "markdown",
   "id": "9ab89e48",
   "metadata": {},
   "source": [
    "---"
   ]
  },
  {
   "cell_type": "markdown",
   "id": "8f96efe6",
   "metadata": {},
   "source": [
    "### Data Preparation: Filtering \n",
    "\n",
    " To begin our data analysis we must separate the posts beginning with 'Ask HN' from the ones beginning with 'Show HN'."
   ]
  },
  {
   "cell_type": "code",
   "execution_count": 26,
   "id": "29b53966",
   "metadata": {},
   "outputs": [],
   "source": [
    "# Initializing the variables\n",
    "ask_posts = []\n",
    "show_posts = []\n",
    "other_posts = []\n",
    "\n",
    "# Looping through the dataset and applying the string filter using the .startswith() method\n",
    "for row in hn:\n",
    "    title = row[1]\n",
    "    if title.lower().startswith('ask hn'):\n",
    "        ask_posts.append(row)\n",
    "        \n",
    "    elif title.lower().startswith('show hn'):\n",
    "        show_posts.append(row)\n",
    "        \n",
    "    else:\n",
    "        other_posts.append(row)"
   ]
  },
  {
   "cell_type": "code",
   "execution_count": 27,
   "id": "c935c5d1",
   "metadata": {},
   "outputs": [
    {
     "name": "stdout",
     "output_type": "stream",
     "text": [
      "There are 1744 Ask Hn posts \n",
      "There are 1162 Show Hn posts\n",
      "There are 17194 other types of posts \n"
     ]
    }
   ],
   "source": [
    "# Checking the number of posts in each lists\n",
    "print(f\"There are {len(ask_posts)} Ask Hn posts \")\n",
    "print(f\"There are {len(show_posts)} Show Hn posts\")\n",
    "print(f\"There are {len(other_posts)} other types of posts \")"
   ]
  },
  {
   "cell_type": "markdown",
   "id": "e545e01c",
   "metadata": {},
   "source": [
    "### Preliminary Data Analysis"
   ]
  },
  {
   "cell_type": "markdown",
   "id": "b791fcdb",
   "metadata": {},
   "source": [
    "Finding the average number of comments for `Ask HN` & `Show HN` posts"
   ]
  },
  {
   "cell_type": "code",
   "execution_count": 31,
   "id": "ca9dddd4",
   "metadata": {},
   "outputs": [
    {
     "name": "stdout",
     "output_type": "stream",
     "text": [
      "The average number of comments per Ask HN post is 14\n"
     ]
    }
   ],
   "source": [
    "# Ask HN posts comment count\n",
    "total_ask_comments = 0\n",
    "for row in ask_posts:\n",
    "    n_comments = int(row[4])\n",
    "    total_ask_comments += n_comments\n",
    "    \n",
    "# Finding the average number of ask hn posts\n",
    "avg_ask_comments =  total_ask_comments /  len(ask_posts)\n",
    "print(f\"The average number of comments per Ask HN post is {round(avg_ask_comments)}\")"
   ]
  },
  {
   "cell_type": "code",
   "execution_count": 32,
   "id": "b3940951",
   "metadata": {},
   "outputs": [
    {
     "name": "stdout",
     "output_type": "stream",
     "text": [
      "The average number of comments per Show HN post is 10\n"
     ]
    }
   ],
   "source": [
    "# Show HN posts comment count\n",
    "total_show_comments = 0\n",
    "for row in show_posts:\n",
    "    n_comments = int(row[4])\n",
    "    total_show_comments += n_comments\n",
    "        \n",
    "# Finding the average number of show hn posts\n",
    "avg_show_comments =  total_show_comments /  len(show_posts)\n",
    "print(f\"The average number of comments per Show HN post is {round(avg_show_comments)}\")"
   ]
  },
  {
   "cell_type": "markdown",
   "id": "277c9daf",
   "metadata": {},
   "source": [
    "**Take Away**\n",
    "\n",
    "From these results generated we can see that `Ask HN` posts receive more comments on average than `Show HN` posts. Since ask posts are more likely to receive comments, for the rest of our analysis we will focus on just these types of posts"
   ]
  },
  {
   "cell_type": "markdown",
   "id": "647a1f11",
   "metadata": {},
   "source": [
    "-----"
   ]
  },
  {
   "cell_type": "markdown",
   "id": "fb168abc",
   "metadata": {},
   "source": [
    "### Data Analysis\n",
    "\n",
    "Now, we want to determine if `Ask HN` posts created at a certain time are more likely to attract comments. We can do so using the following steps:\n",
    "\n",
    "1) **Step 1** - Calculate the number of ask posts created in each hour of the day, along with the number of comments received.\n",
    "\n",
    "\n",
    "2) **Step 2** - Calculate the average number of comments ask posts receive by hour created"
   ]
  },
  {
   "cell_type": "code",
   "execution_count": 37,
   "id": "f3aa1208",
   "metadata": {},
   "outputs": [
    {
     "data": {
      "text/plain": [
       "[['8/16/2016 9:55', 6],\n",
       " ['11/22/2015 13:43', 29],\n",
       " ['5/2/2016 10:14', 1],\n",
       " ['8/2/2016 14:20', 3],\n",
       " ['10/15/2015 16:38', 17],\n",
       " ['9/26/2015 23:23', 1]]"
      ]
     },
     "execution_count": 37,
     "metadata": {},
     "output_type": "execute_result"
    }
   ],
   "source": [
    "# STEP 1\n",
    "# importing the datetime module\n",
    "import datetime as dt\n",
    "\n",
    "# Creating a list of lists of the time at which comments were created and the corresponding number of comments at that time\n",
    "results_list = []\n",
    "for row in ask_posts:\n",
    "    n_comments = int(row[4])\n",
    "    date_string = row[-1]\n",
    "    results_list.append([date_string, n_comments])\n",
    "\n",
    "# A Preview of data stored in results list\n",
    "results_list[:6]"
   ]
  },
  {
   "cell_type": "code",
   "execution_count": 60,
   "id": "39c373de",
   "metadata": {},
   "outputs": [
    {
     "data": {
      "text/plain": [
       "{'00': 55,\n",
       " '01': 60,\n",
       " '02': 58,\n",
       " '03': 54,\n",
       " '04': 47,\n",
       " '05': 46,\n",
       " '06': 44,\n",
       " '07': 34,\n",
       " '08': 48,\n",
       " '09': 45,\n",
       " '10': 59,\n",
       " '11': 58,\n",
       " '12': 73,\n",
       " '13': 85,\n",
       " '14': 107,\n",
       " '15': 116,\n",
       " '16': 108,\n",
       " '17': 100,\n",
       " '18': 109,\n",
       " '19': 110,\n",
       " '20': 80,\n",
       " '21': 109,\n",
       " '22': 71,\n",
       " '23': 68}"
      ]
     },
     "execution_count": 60,
     "metadata": {},
     "output_type": "execute_result"
    }
   ],
   "source": [
    "# Time parsing\n",
    "counts_by_hour = {}\n",
    "comments_by_hour = {}\n",
    "\n",
    "for row in results_list:\n",
    "    dt_string = row[0]\n",
    "    n_comments = row[1]\n",
    "    dt_object = dt.datetime.strptime(dt_string, \"%m/%d/%Y %H:%M\")\n",
    "    hour = dt_object.strftime(\"%H\")\n",
    "    \n",
    "    # Updating the \"number of posts by hour\" frequency table\n",
    "    counts_by_hour[hour] = counts_by_hour.get(hour, 0) + 1\n",
    "    \n",
    "    # Updating the \"number of comments by hour\" frequency table\n",
    "    comments_by_hour[hour] = comments_by_hour.get(hour, 0) + n_comments\n",
    "\n",
    "# Sorting the dictionaries \n",
    "counts_by_hour = dict(sorted(counts_by_hour.items()))\n",
    "comments_by_hour = dict(sorted(comments_by_hour.items()))\n",
    "\n",
    "# Previewing the count_per_hour data\n",
    "counts_by_hour"
   ]
  },
  {
   "cell_type": "code",
   "execution_count": 63,
   "id": "9852a1d9",
   "metadata": {},
   "outputs": [
    {
     "data": {
      "text/plain": [
       "{'00': 447,\n",
       " '01': 683,\n",
       " '02': 1381,\n",
       " '03': 421,\n",
       " '04': 337,\n",
       " '05': 464,\n",
       " '06': 397,\n",
       " '07': 267,\n",
       " '08': 492,\n",
       " '09': 251,\n",
       " '10': 793,\n",
       " '11': 641,\n",
       " '12': 687,\n",
       " '13': 1253,\n",
       " '14': 1416,\n",
       " '15': 4477,\n",
       " '16': 1814,\n",
       " '17': 1146,\n",
       " '18': 1439,\n",
       " '19': 1188,\n",
       " '20': 1722,\n",
       " '21': 1745,\n",
       " '22': 479,\n",
       " '23': 543}"
      ]
     },
     "execution_count": 63,
     "metadata": {},
     "output_type": "execute_result"
    }
   ],
   "source": [
    "# Previewing the comment_per_hour data\n",
    "comments_by_hour\n"
   ]
  },
  {
   "cell_type": "code",
   "execution_count": 71,
   "id": "bf8fc1cb",
   "metadata": {},
   "outputs": [],
   "source": [
    "# STEP 2 - Calculating the average number of comments received per post by the hour\n",
    "\n",
    "avg_by_hour = []\n",
    "for hour in counts_by_hour:\n",
    "    avg_n_comments = comments_by_hour[hour] / counts_by_hour[hour]\n",
    "    avg_by_hour.append([hour, round(avg_n_comments)])\n",
    "    \n",
    "avg_by_hour = dict(avg_by_hour)"
   ]
  },
  {
   "cell_type": "code",
   "execution_count": 74,
   "id": "01136447",
   "metadata": {},
   "outputs": [
    {
     "data": {
      "text/plain": [
       "{'15': 39,\n",
       " '02': 24,\n",
       " '20': 22,\n",
       " '16': 17,\n",
       " '21': 16,\n",
       " '13': 15,\n",
       " '10': 13,\n",
       " '14': 13,\n",
       " '18': 13,\n",
       " '01': 11,\n",
       " '11': 11,\n",
       " '17': 11,\n",
       " '19': 11,\n",
       " '05': 10,\n",
       " '08': 10,\n",
       " '06': 9,\n",
       " '12': 9,\n",
       " '00': 8,\n",
       " '03': 8,\n",
       " '07': 8,\n",
       " '23': 8,\n",
       " '04': 7,\n",
       " '22': 7,\n",
       " '09': 6}"
      ]
     },
     "execution_count": 74,
     "metadata": {},
     "output_type": "execute_result"
    }
   ],
   "source": [
    "# Sorting this dictionary according to the values so as to immediately see the hour(s) which attract the highest amount of comments per post\n",
    "avg_by_hour = dict(sorted(avg_by_hour.items(), key = lambda data: data[1], reverse = True))\n",
    "avg_by_hour"
   ]
  },
  {
   "cell_type": "code",
   "execution_count": 77,
   "id": "a95c5419",
   "metadata": {},
   "outputs": [
    {
     "name": "stdout",
     "output_type": "stream",
     "text": [
      "At 03:00PM there were 39 comments per posts\n",
      "At 02:00AM there were 24 comments per posts\n",
      "At 08:00PM there were 22 comments per posts\n",
      "At 04:00PM there were 17 comments per posts\n",
      "At 09:00PM there were 16 comments per posts\n",
      "At 01:00PM there were 15 comments per posts\n",
      "At 10:00AM there were 13 comments per posts\n",
      "At 02:00PM there were 13 comments per posts\n",
      "At 06:00PM there were 13 comments per posts\n",
      "At 01:00AM there were 11 comments per posts\n",
      "At 11:00AM there were 11 comments per posts\n",
      "At 05:00PM there were 11 comments per posts\n",
      "At 07:00PM there were 11 comments per posts\n",
      "At 05:00AM there were 10 comments per posts\n",
      "At 08:00AM there were 10 comments per posts\n",
      "At 06:00AM there were 9 comments per posts\n",
      "At 12:00PM there were 9 comments per posts\n",
      "At 12:00AM there were 8 comments per posts\n",
      "At 03:00AM there were 8 comments per posts\n",
      "At 07:00AM there were 8 comments per posts\n",
      "At 11:00PM there were 8 comments per posts\n",
      "At 04:00AM there were 7 comments per posts\n",
      "At 10:00PM there were 7 comments per posts\n",
      "At 09:00AM there were 6 comments per posts\n"
     ]
    }
   ],
   "source": [
    "# Displaying results with more finest\n",
    "for hour in avg_by_hour:\n",
    "    n_comments = int(avg_by_hour[hour])\n",
    "    \n",
    "    dt_hour = dt.datetime.strptime(hour, \"%H\")\n",
    "    hour_string = dt_hour.strftime(\"%I:00%p\")\n",
    "    print(\"At {} there were {} comments per posts\".format(hour_string, n_comments))"
   ]
  },
  {
   "cell_type": "markdown",
   "id": "a591fe1e",
   "metadata": {},
   "source": [
    "### Analysis Take Away\n",
    "\n",
    "At 3:00pm, the highest number of comments per post occur and as such the best time to post an Ask HN on the Hacker News site would be at 3:00pm"
   ]
  },
  {
   "cell_type": "code",
   "execution_count": null,
   "id": "1bb19cf4",
   "metadata": {},
   "outputs": [],
   "source": []
  }
 ],
 "metadata": {
  "kernelspec": {
   "display_name": "Python 3 (ipykernel)",
   "language": "python",
   "name": "python3"
  },
  "language_info": {
   "codemirror_mode": {
    "name": "ipython",
    "version": 3
   },
   "file_extension": ".py",
   "mimetype": "text/x-python",
   "name": "python",
   "nbconvert_exporter": "python",
   "pygments_lexer": "ipython3",
   "version": "3.9.7"
  }
 },
 "nbformat": 4,
 "nbformat_minor": 5
}
